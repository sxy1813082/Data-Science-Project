{
 "cells": [
  {
   "cell_type": "code",
   "execution_count": 5,
   "id": "07bc96ba-9a99-4b7b-b748-3b7b0738244a",
   "metadata": {},
   "outputs": [
    {
     "data": {
      "text/plain": [
       "127"
      ]
     },
     "execution_count": 5,
     "metadata": {},
     "output_type": "execute_result"
    }
   ],
   "source": [
    "import subprocess\n",
    "\n",
    "# 指定.sh文件的路径\n",
    "script_path = 'example.sh'\n",
    "\n",
    "# 使用subprocess模块运行.sh文件\n",
    "subprocess.call(['bash', script_path])\n"
   ]
  },
  {
   "cell_type": "code",
   "execution_count": null,
   "id": "33716890-95b2-45a8-abc5-f35eed61ea6a",
   "metadata": {},
   "outputs": [],
   "source": []
  }
 ],
 "metadata": {
  "kernelspec": {
   "display_name": "Python 3 (ipykernel)",
   "language": "python",
   "name": "python3"
  },
  "language_info": {
   "codemirror_mode": {
    "name": "ipython",
    "version": 3
   },
   "file_extension": ".py",
   "mimetype": "text/x-python",
   "name": "python",
   "nbconvert_exporter": "python",
   "pygments_lexer": "ipython3",
   "version": "3.9.0"
  }
 },
 "nbformat": 4,
 "nbformat_minor": 5
}
